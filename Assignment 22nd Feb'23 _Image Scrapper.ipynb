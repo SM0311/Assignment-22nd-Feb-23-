{
 "cells": [
  {
   "cell_type": "code",
   "execution_count": 1,
   "id": "1b100bb5",
   "metadata": {},
   "outputs": [],
   "source": [
    "from bs4 import BeautifulSoup as bs\n",
    "import requests\n",
    "from urllib.request import urlopen as uReq\n",
    "from webdriver_manager.chrome import ChromeDriverManager\n",
    "from selenium import webdriver\n",
    "from selenium.webdriver.chrome.service import Service as ChromeService\n",
    "import re\n",
    "import pandas as pd"
   ]
  },
  {
   "cell_type": "code",
   "execution_count": 2,
   "id": "abd33d88",
   "metadata": {},
   "outputs": [],
   "source": [
    "chrome_service = ChromeService(executable_path=ChromeDriverManager().install())\n",
    "chrome_options = webdriver.ChromeOptions()\n",
    "chrome_options.add_argument('--headless')\n",
    "driver = webdriver.Chrome(service=chrome_service, options=chrome_options)"
   ]
  },
  {
   "cell_type": "code",
   "execution_count": 3,
   "id": "32134f88",
   "metadata": {},
   "outputs": [],
   "source": [
    "youtube_url = \"https://www.youtube.com/@PW-Foundation/videos\"\n",
    "driver.get(youtube_url)\n",
    "driver.implicitly_wait(10)\n",
    "youtube_source = driver.page_source\n",
    "youtube_html = bs(youtube_source, \"html.parser\")\n",
    "#driver.close()"
   ]
  },
  {
   "cell_type": "markdown",
   "id": "c3daef11",
   "metadata": {},
   "source": [
    "Q1. Write a python program to extract the video URL of the first five videos."
   ]
  },
  {
   "cell_type": "code",
   "execution_count": 4,
   "id": "d0631c5e",
   "metadata": {},
   "outputs": [
    {
     "name": "stdout",
     "output_type": "stream",
     "text": [
      "https://www.youtube.com//watch?v=PI1obes98Zc\n",
      "https://www.youtube.com//watch?v=16fUsD0M1-I\n",
      "https://www.youtube.com//watch?v=S0RySN5arvk\n",
      "https://www.youtube.com//watch?v=HzBhwxMrt8A\n",
      "https://www.youtube.com//watch?v=60_B3haKADw\n"
     ]
    }
   ],
   "source": [
    "## extract video urls\n",
    "youtube_a_tags = youtube_html.find_all('a',class_=\"ytd-thumbnail\")\n",
    "youtube_a_tags = youtube_a_tags[1:6]\n",
    "youtube_extract_urls = []\n",
    "for i in youtube_a_tags:\n",
    "    youtube_extract_urls.append(\"https://www.youtube.com/\"+i.get('href'))\n",
    "    print(\"https://www.youtube.com/\"+i.get('href'))"
   ]
  },
  {
   "cell_type": "markdown",
   "id": "d1b9cec1",
   "metadata": {},
   "source": [
    "Q2. Write a python program to extract the URL of the video thumbnails of the first five videos."
   ]
  },
  {
   "cell_type": "code",
   "execution_count": 5,
   "id": "851dfe1d",
   "metadata": {},
   "outputs": [
    {
     "name": "stdout",
     "output_type": "stream",
     "text": [
      "https://i.ytimg.com/vi/PI1obes98Zc/maxresdefault.jpg\n",
      "https://i.ytimg.com/vi/16fUsD0M1-I/maxresdefault.jpg\n",
      "https://i.ytimg.com/vi/S0RySN5arvk/maxresdefault.jpg\n",
      "https://i.ytimg.com/vi/HzBhwxMrt8A/maxresdefault.jpg\n",
      "https://i.ytimg.com/vi/60_B3haKADw/maxresdefault.jpg\n"
     ]
    }
   ],
   "source": [
    "youtube_extract_thumbnails = []\n",
    "for i in youtube_extract_urls:\n",
    "    driver.get(i)\n",
    "    video_page_source = bs(driver.page_source,\"html.parser\")\n",
    "    find = video_page_source.find('link',itemprop=\"thumbnailUrl\")\n",
    "    youtube_extract_thumbnails.append(find['href'])\n",
    "for thumbnail in youtube_extract_thumbnails:\n",
    "    print(thumbnail)"
   ]
  },
  {
   "cell_type": "markdown",
   "id": "95387a82",
   "metadata": {},
   "source": [
    "Q3. Write a python program to extract the title of the first five videos."
   ]
  },
  {
   "cell_type": "code",
   "execution_count": 6,
   "id": "12d9477c",
   "metadata": {},
   "outputs": [
    {
     "name": "stdout",
     "output_type": "stream",
     "text": [
      "How to score 95%+ in class 10th? Complete year Powerful Strategy!!\n",
      "Last 4 Days Left For SST Exam || How To Manage to Score 80/80 in Boards || Class-10th\n",
      "Benefits of Choosing Commerce After 10th | Commerce क्यों लेना चाहिए? | CBSE | ICSE | State Boards\n",
      "Complete 𝗖𝗔𝗥𝗕𝗢𝗡 𝗔𝗡𝗗 𝗜𝗧𝗦 𝗖𝗢𝗠𝗣𝗢𝗨𝗡𝗗𝗦 in 90 Minutes | Class 10th Board Exam\n",
      "Complete 𝗠𝗘𝗧𝗔𝗟𝗦 & 𝗡𝗢𝗡 𝗠𝗘𝗧𝗔𝗟𝗦  in 120 Minutes | Class 10th Board Exam\n"
     ]
    }
   ],
   "source": [
    "youtube_extract_titles=[]\n",
    "youtube_heading_tags = youtube_html.find_all('h3',class_=\"style-scope ytd-rich-grid-media\")\n",
    "youtube_heading_tags = youtube_heading_tags[:5]\n",
    "for i in youtube_heading_tags:\n",
    "    youtube_extract_titles.append(i.text)\n",
    "    print(i.text)"
   ]
  },
  {
   "cell_type": "markdown",
   "id": "92ac99e3",
   "metadata": {},
   "source": [
    "Q4. Write a python program to extract the number of views of the first five videos."
   ]
  },
  {
   "cell_type": "code",
   "execution_count": 7,
   "id": "b39787af",
   "metadata": {},
   "outputs": [
    {
     "name": "stdout",
     "output_type": "stream",
     "text": [
      "191K views\n",
      "68K views\n",
      "28K views\n",
      "42K views\n",
      "23K views\n"
     ]
    }
   ],
   "source": [
    "youtube_extract_views=[]\n",
    "youtube_span_tags = youtube_html.find_all('span',class_=\"inline-metadata-item style-scope ytd-video-meta-block\")\n",
    "views_pattern = re.compile(\"\\d+.*views\")\n",
    "\n",
    "views_spans = []\n",
    "for span in youtube_span_tags:\n",
    "    if views_pattern.search(span.text):\n",
    "        views_spans.append(span)\n",
    "        \n",
    "views_spans = views_spans[:5]\n",
    "for span in views_spans:\n",
    "    youtube_extract_views.append(span.text)\n",
    "    print(span.text)"
   ]
  },
  {
   "cell_type": "markdown",
   "id": "e1c2c039",
   "metadata": {},
   "source": [
    "Q5. Write a python program to extract the time of posting of video for the first five videos."
   ]
  },
  {
   "cell_type": "code",
   "execution_count": 8,
   "id": "5c5b820b",
   "metadata": {},
   "outputs": [
    {
     "name": "stdout",
     "output_type": "stream",
     "text": [
      "10 days ago\n",
      "10 days ago\n",
      "2 weeks ago\n",
      "2 weeks ago\n",
      "2 weeks ago\n"
     ]
    }
   ],
   "source": [
    "views_pattern = re.compile(\"\\d+.*ago\")\n",
    "youtube_extract_upload_time=[]\n",
    "views_spans = []\n",
    "for span in youtube_span_tags:\n",
    "    if views_pattern.search(span.text):\n",
    "        views_spans.append(span)\n",
    "        \n",
    "        \n",
    "# views_spans = [span for span in youtube_span_tags if views_pattern.search(span.text)]\n",
    "views_spans = views_spans[:5]\n",
    "for span in views_spans:\n",
    "    youtube_extract_upload_time.append(span.text)\n",
    "    print(span.text)\n",
    "    \n",
    "driver.close()"
   ]
  },
  {
   "cell_type": "markdown",
   "id": "9a73d8a9",
   "metadata": {},
   "source": [
    "Scrapped Data in CSV File :"
   ]
  },
  {
   "cell_type": "code",
   "execution_count": 9,
   "id": "34399c4a",
   "metadata": {},
   "outputs": [],
   "source": [
    "data = { 'Youtube Urls': youtube_extract_urls,\n",
    "                        'Thumbnails':youtube_extract_thumbnails,\n",
    "                        'Titles':youtube_extract_titles,\n",
    "                        'Views': youtube_extract_views,\n",
    "                        'Upload Time':youtube_extract_upload_time\n",
    "                    }\n",
    "df = pd.DataFrame(data)\n",
    "\n",
    "df.to_csv('YouTube_data.csv', index=False)"
   ]
  },
  {
   "cell_type": "code",
   "execution_count": 10,
   "id": "d3345869",
   "metadata": {},
   "outputs": [
    {
     "data": {
      "text/html": [
       "<div>\n",
       "<style scoped>\n",
       "    .dataframe tbody tr th:only-of-type {\n",
       "        vertical-align: middle;\n",
       "    }\n",
       "\n",
       "    .dataframe tbody tr th {\n",
       "        vertical-align: top;\n",
       "    }\n",
       "\n",
       "    .dataframe thead th {\n",
       "        text-align: right;\n",
       "    }\n",
       "</style>\n",
       "<table border=\"1\" class=\"dataframe\">\n",
       "  <thead>\n",
       "    <tr style=\"text-align: right;\">\n",
       "      <th></th>\n",
       "      <th>Youtube Urls</th>\n",
       "      <th>Thumbnails</th>\n",
       "      <th>Titles</th>\n",
       "      <th>Views</th>\n",
       "      <th>Upload Time</th>\n",
       "    </tr>\n",
       "  </thead>\n",
       "  <tbody>\n",
       "    <tr>\n",
       "      <th>0</th>\n",
       "      <td>https://www.youtube.com//watch?v=PI1obes98Zc</td>\n",
       "      <td>https://i.ytimg.com/vi/PI1obes98Zc/maxresdefau...</td>\n",
       "      <td>How to score 95%+ in class 10th? Complete year...</td>\n",
       "      <td>191K views</td>\n",
       "      <td>10 days ago</td>\n",
       "    </tr>\n",
       "    <tr>\n",
       "      <th>1</th>\n",
       "      <td>https://www.youtube.com//watch?v=16fUsD0M1-I</td>\n",
       "      <td>https://i.ytimg.com/vi/16fUsD0M1-I/maxresdefau...</td>\n",
       "      <td>Last 4 Days Left For SST Exam || How To Manage...</td>\n",
       "      <td>68K views</td>\n",
       "      <td>10 days ago</td>\n",
       "    </tr>\n",
       "    <tr>\n",
       "      <th>2</th>\n",
       "      <td>https://www.youtube.com//watch?v=S0RySN5arvk</td>\n",
       "      <td>https://i.ytimg.com/vi/S0RySN5arvk/maxresdefau...</td>\n",
       "      <td>Benefits of Choosing Commerce After 10th | Com...</td>\n",
       "      <td>28K views</td>\n",
       "      <td>2 weeks ago</td>\n",
       "    </tr>\n",
       "    <tr>\n",
       "      <th>3</th>\n",
       "      <td>https://www.youtube.com//watch?v=HzBhwxMrt8A</td>\n",
       "      <td>https://i.ytimg.com/vi/HzBhwxMrt8A/maxresdefau...</td>\n",
       "      <td>Complete 𝗖𝗔𝗥𝗕𝗢𝗡 𝗔𝗡𝗗 𝗜𝗧𝗦 𝗖𝗢𝗠𝗣𝗢𝗨𝗡𝗗𝗦 in 90 Minute...</td>\n",
       "      <td>42K views</td>\n",
       "      <td>2 weeks ago</td>\n",
       "    </tr>\n",
       "    <tr>\n",
       "      <th>4</th>\n",
       "      <td>https://www.youtube.com//watch?v=60_B3haKADw</td>\n",
       "      <td>https://i.ytimg.com/vi/60_B3haKADw/maxresdefau...</td>\n",
       "      <td>Complete 𝗠𝗘𝗧𝗔𝗟𝗦 &amp; 𝗡𝗢𝗡 𝗠𝗘𝗧𝗔𝗟𝗦  in 120 Minutes |...</td>\n",
       "      <td>23K views</td>\n",
       "      <td>2 weeks ago</td>\n",
       "    </tr>\n",
       "  </tbody>\n",
       "</table>\n",
       "</div>"
      ],
      "text/plain": [
       "                                   Youtube Urls  \\\n",
       "0  https://www.youtube.com//watch?v=PI1obes98Zc   \n",
       "1  https://www.youtube.com//watch?v=16fUsD0M1-I   \n",
       "2  https://www.youtube.com//watch?v=S0RySN5arvk   \n",
       "3  https://www.youtube.com//watch?v=HzBhwxMrt8A   \n",
       "4  https://www.youtube.com//watch?v=60_B3haKADw   \n",
       "\n",
       "                                          Thumbnails  \\\n",
       "0  https://i.ytimg.com/vi/PI1obes98Zc/maxresdefau...   \n",
       "1  https://i.ytimg.com/vi/16fUsD0M1-I/maxresdefau...   \n",
       "2  https://i.ytimg.com/vi/S0RySN5arvk/maxresdefau...   \n",
       "3  https://i.ytimg.com/vi/HzBhwxMrt8A/maxresdefau...   \n",
       "4  https://i.ytimg.com/vi/60_B3haKADw/maxresdefau...   \n",
       "\n",
       "                                              Titles       Views  Upload Time  \n",
       "0  How to score 95%+ in class 10th? Complete year...  191K views  10 days ago  \n",
       "1  Last 4 Days Left For SST Exam || How To Manage...   68K views  10 days ago  \n",
       "2  Benefits of Choosing Commerce After 10th | Com...   28K views  2 weeks ago  \n",
       "3  Complete 𝗖𝗔𝗥𝗕𝗢𝗡 𝗔𝗡𝗗 𝗜𝗧𝗦 𝗖𝗢𝗠𝗣𝗢𝗨𝗡𝗗𝗦 in 90 Minute...   42K views  2 weeks ago  \n",
       "4  Complete 𝗠𝗘𝗧𝗔𝗟𝗦 & 𝗡𝗢𝗡 𝗠𝗘𝗧𝗔𝗟𝗦  in 120 Minutes |...   23K views  2 weeks ago  "
      ]
     },
     "execution_count": 10,
     "metadata": {},
     "output_type": "execute_result"
    }
   ],
   "source": [
    "df"
   ]
  },
  {
   "cell_type": "code",
   "execution_count": null,
   "id": "9346af13",
   "metadata": {},
   "outputs": [],
   "source": []
  }
 ],
 "metadata": {
  "kernelspec": {
   "display_name": "Python 3 (ipykernel)",
   "language": "python",
   "name": "python3"
  },
  "language_info": {
   "codemirror_mode": {
    "name": "ipython",
    "version": 3
   },
   "file_extension": ".py",
   "mimetype": "text/x-python",
   "name": "python",
   "nbconvert_exporter": "python",
   "pygments_lexer": "ipython3",
   "version": "3.9.13"
  }
 },
 "nbformat": 4,
 "nbformat_minor": 5
}
